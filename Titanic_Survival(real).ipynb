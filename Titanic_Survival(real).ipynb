{
 "cells": [
  {
   "cell_type": "code",
   "execution_count": 202,
   "metadata": {},
   "outputs": [],
   "source": [
    "#Importing the required Libraries.\n",
    "import pandas as pd\n",
    "import numpy as np\n",
    "import matplotlib.pyplot as plt\n",
    "import seaborn as sns\n"
   ]
  },
  {
   "cell_type": "code",
   "execution_count": 203,
   "metadata": {},
   "outputs": [],
   "source": [
    "#Reading the train and test datasets.\n",
    "df_train=pd.read_csv('train.csv')\n",
    "df_test=pd.read_csv('test.csv')"
   ]
  },
  {
   "cell_type": "code",
   "execution_count": 204,
   "metadata": {},
   "outputs": [
    {
     "data": {
      "text/plain": [
       "(891, 12)"
      ]
     },
     "execution_count": 204,
     "metadata": {},
     "output_type": "execute_result"
    }
   ],
   "source": [
    "#Checking the rows and columns of the dataframe\n",
    "df_train.shape"
   ]
  },
  {
   "cell_type": "code",
   "execution_count": 205,
   "metadata": {},
   "outputs": [
    {
     "data": {
      "text/plain": [
       "PassengerId      0\n",
       "Survived         0\n",
       "Pclass           0\n",
       "Name             0\n",
       "Sex              0\n",
       "Age            177\n",
       "SibSp            0\n",
       "Parch            0\n",
       "Ticket           0\n",
       "Fare             0\n",
       "Cabin          687\n",
       "Embarked         2\n",
       "dtype: int64"
      ]
     },
     "execution_count": 205,
     "metadata": {},
     "output_type": "execute_result"
    }
   ],
   "source": [
    "#Checking the null values in the dataset\n",
    "df_train.isnull().sum()"
   ]
  },
  {
   "cell_type": "code",
   "execution_count": 206,
   "metadata": {},
   "outputs": [],
   "source": [
    "#Now as we can see in the above cell we have missing values in the 3 columns namely Age,Cabin,Embarked .\n",
    "#The Age variable is a continuos variable and we can replace the missing values by mean ."
   ]
  },
  {
   "cell_type": "code",
   "execution_count": 207,
   "metadata": {},
   "outputs": [],
   "source": [
    "df_train['Age'].fillna(df_train['Age'].mean(),inplace=True)"
   ]
  },
  {
   "cell_type": "code",
   "execution_count": 208,
   "metadata": {},
   "outputs": [
    {
     "data": {
      "text/plain": [
       "0"
      ]
     },
     "execution_count": 208,
     "metadata": {},
     "output_type": "execute_result"
    }
   ],
   "source": [
    "df_train['Age'].isnull().sum()"
   ]
  },
  {
   "cell_type": "code",
   "execution_count": 209,
   "metadata": {},
   "outputs": [],
   "source": [
    "#Now we will check for the categorical variables i.e Cabin and Embarked\n"
   ]
  },
  {
   "cell_type": "code",
   "execution_count": 210,
   "metadata": {},
   "outputs": [
    {
     "data": {
      "text/plain": [
       "147"
      ]
     },
     "execution_count": 210,
     "metadata": {},
     "output_type": "execute_result"
    }
   ],
   "source": [
    "df_train['Cabin'].nunique()"
   ]
  },
  {
   "cell_type": "code",
   "execution_count": 211,
   "metadata": {},
   "outputs": [],
   "source": [
    "#Our Dataframe contains 891 rows in total and the Cabin column has 687 missing values and 147 unique values.\n",
    "#So it will be in our best intrest to drop this column as it will create lot of uncertainity in the dataset."
   ]
  },
  {
   "cell_type": "code",
   "execution_count": 212,
   "metadata": {},
   "outputs": [],
   "source": [
    "df_train.drop(['Cabin'],axis=1,inplace=True)"
   ]
  },
  {
   "cell_type": "code",
   "execution_count": 213,
   "metadata": {},
   "outputs": [],
   "source": [
    "#Using axis=1 so as to specify that we are deleting a column and inplace=True so it affects our original dataset.\n",
    "#Now we will try and fix the Embarked column .\n"
   ]
  },
  {
   "cell_type": "code",
   "execution_count": 214,
   "metadata": {},
   "outputs": [
    {
     "data": {
      "text/plain": [
       "3"
      ]
     },
     "execution_count": 214,
     "metadata": {},
     "output_type": "execute_result"
    }
   ],
   "source": [
    "df_train['Embarked'].nunique()"
   ]
  },
  {
   "cell_type": "code",
   "execution_count": 215,
   "metadata": {},
   "outputs": [],
   "source": [
    "#The embarked column has only 2 null values and 3 unique so we can use the get_dummies functionn for this column."
   ]
  },
  {
   "cell_type": "code",
   "execution_count": 216,
   "metadata": {},
   "outputs": [],
   "source": [
    "Embarked_Dummies=pd.get_dummies(df_train['Embarked'])\n",
    "#we will always take n-1 columns when we create dummy variables . "
   ]
  },
  {
   "cell_type": "code",
   "execution_count": null,
   "metadata": {},
   "outputs": [],
   "source": []
  },
  {
   "cell_type": "code",
   "execution_count": 217,
   "metadata": {},
   "outputs": [],
   "source": [
    "df_train=pd.concat([df_train,Embarked_Dummies],axis=1)"
   ]
  },
  {
   "cell_type": "code",
   "execution_count": 218,
   "metadata": {},
   "outputs": [
    {
     "data": {
      "text/html": [
       "<div>\n",
       "<style scoped>\n",
       "    .dataframe tbody tr th:only-of-type {\n",
       "        vertical-align: middle;\n",
       "    }\n",
       "\n",
       "    .dataframe tbody tr th {\n",
       "        vertical-align: top;\n",
       "    }\n",
       "\n",
       "    .dataframe thead th {\n",
       "        text-align: right;\n",
       "    }\n",
       "</style>\n",
       "<table border=\"1\" class=\"dataframe\">\n",
       "  <thead>\n",
       "    <tr style=\"text-align: right;\">\n",
       "      <th></th>\n",
       "      <th>PassengerId</th>\n",
       "      <th>Survived</th>\n",
       "      <th>Pclass</th>\n",
       "      <th>Name</th>\n",
       "      <th>Sex</th>\n",
       "      <th>Age</th>\n",
       "      <th>SibSp</th>\n",
       "      <th>Parch</th>\n",
       "      <th>Ticket</th>\n",
       "      <th>Fare</th>\n",
       "      <th>Embarked</th>\n",
       "      <th>C</th>\n",
       "      <th>Q</th>\n",
       "      <th>S</th>\n",
       "    </tr>\n",
       "  </thead>\n",
       "  <tbody>\n",
       "    <tr>\n",
       "      <th>0</th>\n",
       "      <td>1</td>\n",
       "      <td>0</td>\n",
       "      <td>3</td>\n",
       "      <td>Braund, Mr. Owen Harris</td>\n",
       "      <td>male</td>\n",
       "      <td>22.0</td>\n",
       "      <td>1</td>\n",
       "      <td>0</td>\n",
       "      <td>A/5 21171</td>\n",
       "      <td>7.2500</td>\n",
       "      <td>S</td>\n",
       "      <td>0</td>\n",
       "      <td>0</td>\n",
       "      <td>1</td>\n",
       "    </tr>\n",
       "    <tr>\n",
       "      <th>1</th>\n",
       "      <td>2</td>\n",
       "      <td>1</td>\n",
       "      <td>1</td>\n",
       "      <td>Cumings, Mrs. John Bradley (Florence Briggs Th...</td>\n",
       "      <td>female</td>\n",
       "      <td>38.0</td>\n",
       "      <td>1</td>\n",
       "      <td>0</td>\n",
       "      <td>PC 17599</td>\n",
       "      <td>71.2833</td>\n",
       "      <td>C</td>\n",
       "      <td>1</td>\n",
       "      <td>0</td>\n",
       "      <td>0</td>\n",
       "    </tr>\n",
       "  </tbody>\n",
       "</table>\n",
       "</div>"
      ],
      "text/plain": [
       "   PassengerId  Survived  Pclass  \\\n",
       "0            1         0       3   \n",
       "1            2         1       1   \n",
       "\n",
       "                                                Name     Sex   Age  SibSp  \\\n",
       "0                            Braund, Mr. Owen Harris    male  22.0      1   \n",
       "1  Cumings, Mrs. John Bradley (Florence Briggs Th...  female  38.0      1   \n",
       "\n",
       "   Parch     Ticket     Fare Embarked  C  Q  S  \n",
       "0      0  A/5 21171   7.2500        S  0  0  1  \n",
       "1      0   PC 17599  71.2833        C  1  0  0  "
      ]
     },
     "execution_count": 218,
     "metadata": {},
     "output_type": "execute_result"
    }
   ],
   "source": [
    "df_train.head(2)"
   ]
  },
  {
   "cell_type": "code",
   "execution_count": 219,
   "metadata": {},
   "outputs": [],
   "source": [
    "df_train.drop(['Embarked'],axis=1,inplace=True)"
   ]
  },
  {
   "cell_type": "code",
   "execution_count": 220,
   "metadata": {},
   "outputs": [],
   "source": [
    "#Dropping the name column as it has all 891 unique values.\n",
    "df_train.drop(['Name'],axis=1,inplace=True)"
   ]
  },
  {
   "cell_type": "code",
   "execution_count": 221,
   "metadata": {},
   "outputs": [
    {
     "data": {
      "text/plain": [
       "681"
      ]
     },
     "execution_count": 221,
     "metadata": {},
     "output_type": "execute_result"
    }
   ],
   "source": [
    "\n",
    "#Now upon examining the dataset , we find that all null values have been dealt with but the data still has categorical variables \n",
    "#So we will quickly convert those into their dummy values\n",
    "df_train['Ticket'].nunique()"
   ]
  },
  {
   "cell_type": "code",
   "execution_count": 222,
   "metadata": {},
   "outputs": [],
   "source": [
    "df_train.drop(['Ticket'],axis=1,inplace=True)"
   ]
  },
  {
   "cell_type": "code",
   "execution_count": 223,
   "metadata": {},
   "outputs": [],
   "source": [
    "df_train=pd.get_dummies(df_train,columns=['Sex'])"
   ]
  },
  {
   "cell_type": "code",
   "execution_count": 224,
   "metadata": {},
   "outputs": [
    {
     "data": {
      "text/html": [
       "<div>\n",
       "<style scoped>\n",
       "    .dataframe tbody tr th:only-of-type {\n",
       "        vertical-align: middle;\n",
       "    }\n",
       "\n",
       "    .dataframe tbody tr th {\n",
       "        vertical-align: top;\n",
       "    }\n",
       "\n",
       "    .dataframe thead th {\n",
       "        text-align: right;\n",
       "    }\n",
       "</style>\n",
       "<table border=\"1\" class=\"dataframe\">\n",
       "  <thead>\n",
       "    <tr style=\"text-align: right;\">\n",
       "      <th></th>\n",
       "      <th>PassengerId</th>\n",
       "      <th>Survived</th>\n",
       "      <th>Pclass</th>\n",
       "      <th>Age</th>\n",
       "      <th>SibSp</th>\n",
       "      <th>Parch</th>\n",
       "      <th>Fare</th>\n",
       "      <th>C</th>\n",
       "      <th>Q</th>\n",
       "      <th>S</th>\n",
       "      <th>Sex_female</th>\n",
       "      <th>Sex_male</th>\n",
       "    </tr>\n",
       "  </thead>\n",
       "  <tbody>\n",
       "    <tr>\n",
       "      <th>0</th>\n",
       "      <td>1</td>\n",
       "      <td>0</td>\n",
       "      <td>3</td>\n",
       "      <td>22.0</td>\n",
       "      <td>1</td>\n",
       "      <td>0</td>\n",
       "      <td>7.2500</td>\n",
       "      <td>0</td>\n",
       "      <td>0</td>\n",
       "      <td>1</td>\n",
       "      <td>0</td>\n",
       "      <td>1</td>\n",
       "    </tr>\n",
       "    <tr>\n",
       "      <th>1</th>\n",
       "      <td>2</td>\n",
       "      <td>1</td>\n",
       "      <td>1</td>\n",
       "      <td>38.0</td>\n",
       "      <td>1</td>\n",
       "      <td>0</td>\n",
       "      <td>71.2833</td>\n",
       "      <td>1</td>\n",
       "      <td>0</td>\n",
       "      <td>0</td>\n",
       "      <td>1</td>\n",
       "      <td>0</td>\n",
       "    </tr>\n",
       "    <tr>\n",
       "      <th>2</th>\n",
       "      <td>3</td>\n",
       "      <td>1</td>\n",
       "      <td>3</td>\n",
       "      <td>26.0</td>\n",
       "      <td>0</td>\n",
       "      <td>0</td>\n",
       "      <td>7.9250</td>\n",
       "      <td>0</td>\n",
       "      <td>0</td>\n",
       "      <td>1</td>\n",
       "      <td>1</td>\n",
       "      <td>0</td>\n",
       "    </tr>\n",
       "    <tr>\n",
       "      <th>3</th>\n",
       "      <td>4</td>\n",
       "      <td>1</td>\n",
       "      <td>1</td>\n",
       "      <td>35.0</td>\n",
       "      <td>1</td>\n",
       "      <td>0</td>\n",
       "      <td>53.1000</td>\n",
       "      <td>0</td>\n",
       "      <td>0</td>\n",
       "      <td>1</td>\n",
       "      <td>1</td>\n",
       "      <td>0</td>\n",
       "    </tr>\n",
       "    <tr>\n",
       "      <th>4</th>\n",
       "      <td>5</td>\n",
       "      <td>0</td>\n",
       "      <td>3</td>\n",
       "      <td>35.0</td>\n",
       "      <td>0</td>\n",
       "      <td>0</td>\n",
       "      <td>8.0500</td>\n",
       "      <td>0</td>\n",
       "      <td>0</td>\n",
       "      <td>1</td>\n",
       "      <td>0</td>\n",
       "      <td>1</td>\n",
       "    </tr>\n",
       "  </tbody>\n",
       "</table>\n",
       "</div>"
      ],
      "text/plain": [
       "   PassengerId  Survived  Pclass   Age  SibSp  Parch     Fare  C  Q  S  \\\n",
       "0            1         0       3  22.0      1      0   7.2500  0  0  1   \n",
       "1            2         1       1  38.0      1      0  71.2833  1  0  0   \n",
       "2            3         1       3  26.0      0      0   7.9250  0  0  1   \n",
       "3            4         1       1  35.0      1      0  53.1000  0  0  1   \n",
       "4            5         0       3  35.0      0      0   8.0500  0  0  1   \n",
       "\n",
       "   Sex_female  Sex_male  \n",
       "0           0         1  \n",
       "1           1         0  \n",
       "2           1         0  \n",
       "3           1         0  \n",
       "4           0         1  "
      ]
     },
     "execution_count": 224,
     "metadata": {},
     "output_type": "execute_result"
    }
   ],
   "source": [
    "df_train.head()"
   ]
  },
  {
   "cell_type": "code",
   "execution_count": 225,
   "metadata": {},
   "outputs": [],
   "source": [
    "#Now we can see all the categorical variables have been dealt with and our dataset has only numerical values.\n",
    "#Now we will scale our dataset to bring all values under o and 1 and then start the model building process."
   ]
  },
  {
   "cell_type": "code",
   "execution_count": 226,
   "metadata": {},
   "outputs": [],
   "source": [
    "from sklearn.preprocessing import MinMaxScaler"
   ]
  },
  {
   "cell_type": "code",
   "execution_count": 227,
   "metadata": {},
   "outputs": [],
   "source": [
    "scaler=MinMaxScaler()"
   ]
  },
  {
   "cell_type": "code",
   "execution_count": 228,
   "metadata": {},
   "outputs": [],
   "source": [
    "num_vars=['Age','Fare']\n",
    "df_train[num_vars]=scaler.fit_transform(df_train[num_vars])"
   ]
  },
  {
   "cell_type": "code",
   "execution_count": 229,
   "metadata": {},
   "outputs": [
    {
     "data": {
      "text/html": [
       "<div>\n",
       "<style scoped>\n",
       "    .dataframe tbody tr th:only-of-type {\n",
       "        vertical-align: middle;\n",
       "    }\n",
       "\n",
       "    .dataframe tbody tr th {\n",
       "        vertical-align: top;\n",
       "    }\n",
       "\n",
       "    .dataframe thead th {\n",
       "        text-align: right;\n",
       "    }\n",
       "</style>\n",
       "<table border=\"1\" class=\"dataframe\">\n",
       "  <thead>\n",
       "    <tr style=\"text-align: right;\">\n",
       "      <th></th>\n",
       "      <th>PassengerId</th>\n",
       "      <th>Survived</th>\n",
       "      <th>Pclass</th>\n",
       "      <th>Age</th>\n",
       "      <th>SibSp</th>\n",
       "      <th>Parch</th>\n",
       "      <th>Fare</th>\n",
       "      <th>C</th>\n",
       "      <th>Q</th>\n",
       "      <th>S</th>\n",
       "      <th>Sex_female</th>\n",
       "      <th>Sex_male</th>\n",
       "    </tr>\n",
       "  </thead>\n",
       "  <tbody>\n",
       "    <tr>\n",
       "      <th>0</th>\n",
       "      <td>1</td>\n",
       "      <td>0</td>\n",
       "      <td>3</td>\n",
       "      <td>0.271174</td>\n",
       "      <td>1</td>\n",
       "      <td>0</td>\n",
       "      <td>0.014151</td>\n",
       "      <td>0</td>\n",
       "      <td>0</td>\n",
       "      <td>1</td>\n",
       "      <td>0</td>\n",
       "      <td>1</td>\n",
       "    </tr>\n",
       "    <tr>\n",
       "      <th>1</th>\n",
       "      <td>2</td>\n",
       "      <td>1</td>\n",
       "      <td>1</td>\n",
       "      <td>0.472229</td>\n",
       "      <td>1</td>\n",
       "      <td>0</td>\n",
       "      <td>0.139136</td>\n",
       "      <td>1</td>\n",
       "      <td>0</td>\n",
       "      <td>0</td>\n",
       "      <td>1</td>\n",
       "      <td>0</td>\n",
       "    </tr>\n",
       "    <tr>\n",
       "      <th>2</th>\n",
       "      <td>3</td>\n",
       "      <td>1</td>\n",
       "      <td>3</td>\n",
       "      <td>0.321438</td>\n",
       "      <td>0</td>\n",
       "      <td>0</td>\n",
       "      <td>0.015469</td>\n",
       "      <td>0</td>\n",
       "      <td>0</td>\n",
       "      <td>1</td>\n",
       "      <td>1</td>\n",
       "      <td>0</td>\n",
       "    </tr>\n",
       "    <tr>\n",
       "      <th>3</th>\n",
       "      <td>4</td>\n",
       "      <td>1</td>\n",
       "      <td>1</td>\n",
       "      <td>0.434531</td>\n",
       "      <td>1</td>\n",
       "      <td>0</td>\n",
       "      <td>0.103644</td>\n",
       "      <td>0</td>\n",
       "      <td>0</td>\n",
       "      <td>1</td>\n",
       "      <td>1</td>\n",
       "      <td>0</td>\n",
       "    </tr>\n",
       "    <tr>\n",
       "      <th>4</th>\n",
       "      <td>5</td>\n",
       "      <td>0</td>\n",
       "      <td>3</td>\n",
       "      <td>0.434531</td>\n",
       "      <td>0</td>\n",
       "      <td>0</td>\n",
       "      <td>0.015713</td>\n",
       "      <td>0</td>\n",
       "      <td>0</td>\n",
       "      <td>1</td>\n",
       "      <td>0</td>\n",
       "      <td>1</td>\n",
       "    </tr>\n",
       "  </tbody>\n",
       "</table>\n",
       "</div>"
      ],
      "text/plain": [
       "   PassengerId  Survived  Pclass       Age  SibSp  Parch      Fare  C  Q  S  \\\n",
       "0            1         0       3  0.271174      1      0  0.014151  0  0  1   \n",
       "1            2         1       1  0.472229      1      0  0.139136  1  0  0   \n",
       "2            3         1       3  0.321438      0      0  0.015469  0  0  1   \n",
       "3            4         1       1  0.434531      1      0  0.103644  0  0  1   \n",
       "4            5         0       3  0.434531      0      0  0.015713  0  0  1   \n",
       "\n",
       "   Sex_female  Sex_male  \n",
       "0           0         1  \n",
       "1           1         0  \n",
       "2           1         0  \n",
       "3           1         0  \n",
       "4           0         1  "
      ]
     },
     "execution_count": 229,
     "metadata": {},
     "output_type": "execute_result"
    }
   ],
   "source": [
    "df_train.head()"
   ]
  },
  {
   "cell_type": "code",
   "execution_count": 230,
   "metadata": {},
   "outputs": [],
   "source": [
    "train_x=df_train.drop(['Survived'],axis=1)\n",
    "train_y=df_train['Survived']"
   ]
  },
  {
   "cell_type": "code",
   "execution_count": 231,
   "metadata": {},
   "outputs": [],
   "source": [
    "from sklearn.linear_model import LogisticRegression as LogReg\n",
    "from sklearn.metrics import f1_score"
   ]
  },
  {
   "cell_type": "code",
   "execution_count": 232,
   "metadata": {},
   "outputs": [],
   "source": [
    "logreg=LogReg()"
   ]
  },
  {
   "cell_type": "code",
   "execution_count": 233,
   "metadata": {},
   "outputs": [
    {
     "data": {
      "text/plain": [
       "LogisticRegression(C=1.0, class_weight=None, dual=False, fit_intercept=True,\n",
       "          intercept_scaling=1, max_iter=100, multi_class='ovr', n_jobs=1,\n",
       "          penalty='l2', random_state=None, solver='liblinear', tol=0.0001,\n",
       "          verbose=0, warm_start=False)"
      ]
     },
     "execution_count": 233,
     "metadata": {},
     "output_type": "execute_result"
    }
   ],
   "source": [
    "logreg.fit(train_x,train_y)"
   ]
  },
  {
   "cell_type": "markdown",
   "metadata": {},
   "source": [
    "# Making predictions using the predict function."
   ]
  },
  {
   "cell_type": "code",
   "execution_count": 234,
   "metadata": {},
   "outputs": [],
   "source": [
    "train_predict=logreg.predict(train_x)"
   ]
  },
  {
   "cell_type": "code",
   "execution_count": 235,
   "metadata": {},
   "outputs": [
    {
     "name": "stdout",
     "output_type": "stream",
     "text": [
      "Training f1_score 0.7317073170731707\n"
     ]
    }
   ],
   "source": [
    "k=f1_score(train_predict,train_y)\n",
    "print(\"Training f1_score\",k)"
   ]
  },
  {
   "cell_type": "markdown",
   "metadata": {},
   "source": [
    "# Making predictions using the predict_proba function"
   ]
  },
  {
   "cell_type": "code",
   "execution_count": 236,
   "metadata": {},
   "outputs": [
    {
     "data": {
      "text/plain": [
       "array([[0.91277102, 0.08722898],\n",
       "       [0.09063388, 0.90936612],\n",
       "       [0.38938488, 0.61061512],\n",
       "       ...,\n",
       "       [0.47256565, 0.52743435],\n",
       "       [0.41327219, 0.58672781],\n",
       "       [0.87165118, 0.12834882]])"
      ]
     },
     "execution_count": 236,
     "metadata": {},
     "output_type": "execute_result"
    }
   ],
   "source": [
    "#Predicting over the training dataset\n",
    "train_predict=logreg.predict_proba(train_x)\n",
    "train_predict"
   ]
  },
  {
   "cell_type": "code",
   "execution_count": 237,
   "metadata": {},
   "outputs": [
    {
     "data": {
      "text/plain": [
       "array([0.08722898, 0.90936612, 0.61061512, 0.87353449, 0.08262675,\n",
       "       0.11882832, 0.28689832, 0.08076567, 0.57127271, 0.87041105,\n",
       "       0.6639418 , 0.83001966, 0.11671861, 0.04290181, 0.68078611,\n",
       "       0.66522948, 0.08145005, 0.21403555, 0.51685774, 0.68684384,\n",
       "       0.19477362, 0.19629337, 0.73133849, 0.43396734, 0.51160735,\n",
       "       0.38959695, 0.13683702, 0.32978183, 0.65202002, 0.09378929,\n",
       "       0.46209347, 0.93180299, 0.65213515, 0.09747791, 0.48776592,\n",
       "       0.29523755, 0.13703447, 0.11454044, 0.53286978, 0.71571077,\n",
       "       0.45796588, 0.75768175, 0.13724962, 0.8871727 , 0.71157487,\n",
       "       0.09403216, 0.09463989, 0.65270167, 0.08621805, 0.59950792,\n",
       "       0.05735409, 0.11474594, 0.88503423, 0.74973939, 0.30712   ,\n",
       "       0.42467267, 0.82528306, 0.14110898, 0.82764526, 0.03796922,\n",
       "       0.16245292, 0.87151538, 0.28837022, 0.07334738, 0.52898101,\n",
       "       0.10277278, 0.79421251, 0.12035001, 0.369842  , 0.06257681,\n",
       "       0.20528167, 0.32536774, 0.2697743 , 0.11909091, 0.09452327,\n",
       "       0.1051564 , 0.09445672, 0.09448717, 0.33667663, 0.59060173,\n",
       "       0.11281394, 0.09623406, 0.6540323 , 0.43993161, 0.84011467,\n",
       "       0.37395779, 0.08619473, 0.09462977, 0.86146512, 0.10784813,\n",
       "       0.09620951, 0.11805689, 0.27864856, 0.07173903, 0.04723076,\n",
       "       0.09474398, 0.28458837, 0.56580496, 0.76363346, 0.16099772,\n",
       "       0.6023473 , 0.09481347, 0.4764916 , 0.08794242, 0.04824899,\n",
       "       0.09865174, 0.64432951, 0.09488652, 0.07824436, 0.59658326,\n",
       "       0.32854944, 0.71636256, 0.11323123, 0.58742926, 0.75648282,\n",
       "       0.11584887, 0.04631186, 0.17848525, 0.61515201, 0.47159416,\n",
       "       0.17827284, 0.09511603, 0.23576085, 0.78141731, 0.2827676 ,\n",
       "       0.16248588, 0.12086223, 0.10835074, 0.61794269, 0.06646332,\n",
       "       0.12923679, 0.11864895, 0.41938664, 0.75223105, 0.23837279,\n",
       "       0.33619874, 0.92107569, 0.32642095, 0.1301537 , 0.58343995,\n",
       "       0.6621929 , 0.63984533, 0.56555067, 0.15313293, 0.27218884,\n",
       "       0.21095978, 0.10154948, 0.56384762, 0.17100902, 0.16909942,\n",
       "       0.13923927, 0.90927813, 0.05192869, 0.06556952, 0.09551184,\n",
       "       0.39149609, 0.73064817, 0.09497273, 0.09571285, 0.0112682 ,\n",
       "       0.06466667, 0.74888354, 0.10414247, 0.12768523, 0.06737862,\n",
       "       0.13642712, 0.90854859, 0.36894872, 0.42639798, 0.10508732,\n",
       "       0.25275127, 0.07959075, 0.68512962, 0.11684199, 0.37011691,\n",
       "       0.09217477, 0.04295089, 0.90443641, 0.21727514, 0.08215744,\n",
       "       0.13674913, 0.3008602 , 0.0516736 , 0.24566795, 0.71410935,\n",
       "       0.43434219, 0.59711223, 0.3357564 , 0.0712214 , 0.08301853,\n",
       "       0.78547059, 0.26907125, 0.59617419, 0.28558472, 0.91697371,\n",
       "       0.89948548, 0.12210648, 0.0676085 , 0.6583804 , 0.81802935,\n",
       "       0.10024521, 0.0113464 , 0.08701423, 0.09843829, 0.12554124,\n",
       "       0.7362978 , 0.07190944, 0.15403911, 0.7323532 , 0.47051503,\n",
       "       0.1096825 , 0.77465183, 0.11481444, 0.21826813, 0.09623348,\n",
       "       0.92899801, 0.6130321 , 0.13780289, 0.94109742, 0.21791483,\n",
       "       0.13154388, 0.23182033, 0.05850766, 0.09657174, 0.33401906,\n",
       "       0.11529755, 0.26961405, 0.11901566, 0.27533664, 0.38542449,\n",
       "       0.88160302, 0.098241  , 0.11810638, 0.45735012, 0.24553437,\n",
       "       0.59725656, 0.13208444, 0.85702108, 0.2700078 , 0.20607611,\n",
       "       0.63666846, 0.59931393, 0.22294882, 0.11532455, 0.14025581,\n",
       "       0.30120655, 0.62616917, 0.7974708 , 0.3148017 , 0.10572849,\n",
       "       0.09689534, 0.51918266, 0.24892806, 0.07595236, 0.49566614,\n",
       "       0.67040954, 0.94478144, 0.91784305, 0.9622059 , 0.68906861,\n",
       "       0.12325372, 0.06043742, 0.24524808, 0.36010769, 0.66084842,\n",
       "       0.19419384, 0.04775884, 0.08477038, 0.84726511, 0.91280914,\n",
       "       0.43208725, 0.107364  , 0.73480335, 0.47407704, 0.6612216 ,\n",
       "       0.78506053, 0.50287213, 0.2186696 , 0.07540419, 0.48517105,\n",
       "       0.0542914 , 0.1012844 , 0.1329332 , 0.12419635, 0.43115245,\n",
       "       0.13227788, 0.09699146, 0.1161715 , 0.17237713, 0.70418293,\n",
       "       0.92493384, 0.94595443, 0.27133892, 0.63423542, 0.11115877,\n",
       "       0.5385551 , 0.16260383, 0.94270232, 0.43308114, 0.92168524,\n",
       "       0.66219094, 0.07752764, 0.12346677, 0.83786175, 0.09777186,\n",
       "       0.55006689, 0.9471952 , 0.94968623, 0.25182917, 0.94339894,\n",
       "       0.95251252, 0.93638043, 0.75870432, 0.10177524, 0.12841405,\n",
       "       0.62291553, 0.78046   , 0.13372799, 0.91309543, 0.91006646,\n",
       "       0.11665524, 0.10425122, 0.83724985, 0.77781275, 0.01157852,\n",
       "       0.94047682, 0.04662546, 0.77185135, 0.51275333, 0.95703376,\n",
       "       0.53911759, 0.33880663, 0.4024853 , 0.08342827, 0.90217623,\n",
       "       0.09821148, 0.38438609, 0.93297446, 0.06874043, 0.34390211,\n",
       "       0.29588348, 0.86344289, 0.23087569, 0.24474982, 0.19674594,\n",
       "       0.82162106, 0.7540073 , 0.53818649, 0.13392427, 0.07397172,\n",
       "       0.11480888, 0.43660897, 0.14747701, 0.08686009, 0.14341825,\n",
       "       0.10259779, 0.92578947, 0.76366189, 0.6643838 , 0.66442093,\n",
       "       0.04717148, 0.2592217 , 0.59643079, 0.08717568, 0.09927637,\n",
       "       0.09790558, 0.8595261 , 0.69917439, 0.66471969, 0.95218589,\n",
       "       0.51264073, 0.10108506, 0.12581767, 0.6215513 , 0.5577545 ,\n",
       "       0.93040736, 0.6486745 , 0.57940942, 0.17651369, 0.12590877,\n",
       "       0.93873225, 0.80917284, 0.0938094 , 0.88022005, 0.09893663,\n",
       "       0.29582814, 0.05102041, 0.7736063 , 0.12557319, 0.89467915,\n",
       "       0.32806236, 0.1206242 , 0.0626919 , 0.94293263, 0.60696355,\n",
       "       0.11801837, 0.59582732, 0.16292712, 0.25544228, 0.80753529,\n",
       "       0.07993433, 0.10794767, 0.59291193, 0.08143163, 0.66162538,\n",
       "       0.16714454, 0.0601979 , 0.29107058, 0.12092214, 0.39254962,\n",
       "       0.09932334, 0.12587665, 0.91411211, 0.22256421, 0.07121118,\n",
       "       0.60459308, 0.72455653, 0.82488777, 0.22414981, 0.69091234,\n",
       "       0.144876  , 0.15268985, 0.10110653, 0.53387717, 0.09702614,\n",
       "       0.09947597, 0.76581167, 0.84347566, 0.12630935, 0.0944901 ,\n",
       "       0.44796625, 0.54166172, 0.69620773, 0.13256097, 0.26843958,\n",
       "       0.92266649, 0.49983716, 0.68910587, 0.19962475, 0.21982558,\n",
       "       0.66449376, 0.12448286, 0.0870592 , 0.8087382 , 0.09985499,\n",
       "       0.58185046, 0.85335025, 0.4112384 , 0.70870628, 0.30745858,\n",
       "       0.14387487, 0.07919985, 0.54315472, 0.37627167, 0.09999788,\n",
       "       0.14782835, 0.2410822 , 0.89488656, 0.70703676, 0.12688022,\n",
       "       0.32889455, 0.09065999, 0.33788997, 0.15544538, 0.10014788,\n",
       "       0.08256286, 0.2240953 , 0.28582649, 0.12704297, 0.73122206,\n",
       "       0.10014937, 0.08278888, 0.71605358, 0.88109669, 0.65310559,\n",
       "       0.44685147, 0.16879716, 0.07965762, 0.11942935, 0.74548794,\n",
       "       0.04264666, 0.22452999, 0.06241271, 0.39887779, 0.52830444,\n",
       "       0.395572  , 0.88678872, 0.37011164, 0.0998181 , 0.11962326,\n",
       "       0.07967484, 0.12233004, 0.2929167 , 0.30207177, 0.12248929,\n",
       "       0.14744086, 0.87969077, 0.10143089, 0.90450194, 0.11456475,\n",
       "       0.1340685 , 0.71668361, 0.66964233, 0.56347331, 0.94326943,\n",
       "       0.57858839, 0.76828314, 0.44045036, 0.1064806 , 0.11564043,\n",
       "       0.12982213, 0.10085552, 0.40148669, 0.87752085, 0.11478096,\n",
       "       0.33863418, 0.78552024, 0.1302191 , 0.73035324, 0.09576404,\n",
       "       0.92170898, 0.12023329, 0.14689003, 0.91854369, 0.14693243,\n",
       "       0.10039184, 0.70937714, 0.50095596, 0.08151629, 0.15999954,\n",
       "       0.85730082, 0.14707862, 0.14486237, 0.67858426, 0.60767514,\n",
       "       0.86597873, 0.3488411 , 0.94844807, 0.10198743, 0.94804533,\n",
       "       0.89532914, 0.44479724, 0.43229892, 0.17858766, 0.37884945,\n",
       "       0.24840381, 0.80752055, 0.31352159, 0.06967789, 0.27453147,\n",
       "       0.61779703, 0.24469117, 0.12861698, 0.17393593, 0.65554617,\n",
       "       0.25848209, 0.89136755, 0.60911904, 0.86813917, 0.50737429,\n",
       "       0.12875547, 0.08003101, 0.23755739, 0.10164361, 0.61050992,\n",
       "       0.07214641, 0.12939327, 0.54961162, 0.14785334, 0.09648312,\n",
       "       0.11565135, 0.78527275, 0.40391988, 0.6722857 , 0.13842685,\n",
       "       0.13047991, 0.78771304, 0.87322267, 0.64958879, 0.096636  ,\n",
       "       0.77216963, 0.91329408, 0.14069686, 0.51431637, 0.14841956,\n",
       "       0.93231817, 0.16190689, 0.30016153, 0.12143886, 0.1020397 ,\n",
       "       0.09023909, 0.88657831, 0.06812788, 0.64096236, 0.16181635,\n",
       "       0.06563482, 0.80978526, 0.06447611, 0.14848332, 0.37270908,\n",
       "       0.72622503, 0.10220559, 0.44916587, 0.07333188, 0.51738482,\n",
       "       0.0695582 , 0.10158065, 0.46279517, 0.84190251, 0.90884661,\n",
       "       0.40680771, 0.10226309, 0.61405681, 0.12974892, 0.09066142,\n",
       "       0.77271892, 0.06828662, 0.57253694, 0.81795999, 0.24798639,\n",
       "       0.12615086, 0.31608953, 0.1386646 , 0.12479113, 0.12592   ,\n",
       "       0.26704627, 0.16418772, 0.93665433, 0.11162381, 0.13004779,\n",
       "       0.18309638, 0.06230325, 0.53879119, 0.43758616, 0.51494258,\n",
       "       0.81363575, 0.09746792, 0.17426705, 0.46432324, 0.08115867,\n",
       "       0.12791454, 0.95420664, 0.55955927, 0.10849012, 0.7369116 ,\n",
       "       0.38623571, 0.13090166, 0.39006582, 0.1028869 , 0.65330299,\n",
       "       0.10295687, 0.84187447, 0.12539761, 0.67523578, 0.73666728,\n",
       "       0.18014236, 0.1030492 , 0.58470937, 0.26436179, 0.36754735,\n",
       "       0.24240073, 0.11937492, 0.34180435, 0.08918961, 0.10105102,\n",
       "       0.15220178, 0.25482978, 0.10320492, 0.07583648, 0.89817729,\n",
       "       0.70363701, 0.38129789, 0.09788039, 0.22712104, 0.23017631,\n",
       "       0.13436961, 0.11630664, 0.68317295, 0.37292672, 0.64156888,\n",
       "       0.67630404, 0.58607222, 0.12888583, 0.03898783, 0.09358146,\n",
       "       0.26512457, 0.05356665, 0.13200035, 0.13462463, 0.95024014,\n",
       "       0.38349584, 0.81580629, 0.10928197, 0.16644115, 0.27293285,\n",
       "       0.14740257, 0.07439141, 0.67681496, 0.37542591, 0.07797578,\n",
       "       0.95785442, 0.41524317, 0.7567217 , 0.14572404, 0.08852219,\n",
       "       0.19669854, 0.74141743, 0.37294917, 0.94115144, 0.11309291,\n",
       "       0.95364291, 0.44884008, 0.28697639, 0.10578399, 0.14772336,\n",
       "       0.13217997, 0.94720486, 0.81904051, 0.13282914, 0.09643261,\n",
       "       0.8809644 , 0.10902074, 0.215367  , 0.15444679, 0.40805647,\n",
       "       0.12961407, 0.65416194, 0.67790804, 0.2113377 , 0.58085523,\n",
       "       0.93529316, 0.22547795, 0.23189246, 0.26679816, 0.26683074,\n",
       "       0.1081264 , 0.39192249, 0.66562627, 0.10431839, 0.10433395,\n",
       "       0.45108439, 0.36199299, 0.93610518, 0.09412653, 0.10135774,\n",
       "       0.180544  , 0.10658498, 0.80869206, 0.45901945, 0.12857063,\n",
       "       0.85508782, 0.16658584, 0.09709819, 0.12163388, 0.65378648,\n",
       "       0.31472544, 0.10870916, 0.29287729, 0.09482135, 0.91838539,\n",
       "       0.10542392, 0.08054039, 0.1866021 , 0.87799137, 0.14220306,\n",
       "       0.84324724, 0.56157707, 0.67490569, 0.10646409, 0.0994821 ,\n",
       "       0.11944349, 0.06845173, 0.68028441, 0.15220633, 0.58988959,\n",
       "       0.13631504, 0.1328452 , 0.75386314, 0.13288181, 0.90477843,\n",
       "       0.79206087, 0.92589717, 0.45723168, 0.07337105, 0.11672113,\n",
       "       0.11676364, 0.68646928, 0.07964467, 0.14089116, 0.47126782,\n",
       "       0.13311404, 0.30852033, 0.14923309, 0.55999051, 0.11700025,\n",
       "       0.1965437 , 0.87489254, 0.61204433, 0.15175615, 0.53976265,\n",
       "       0.21757037, 0.750263  , 0.49706868, 0.26184581, 0.11189352,\n",
       "       0.10226995, 0.38722414, 0.68729528, 0.19688583, 0.89261612,\n",
       "       0.11466422, 0.08668054, 0.21308671, 0.47501604, 0.10361532,\n",
       "       0.44505967, 0.65967905, 0.25260615, 0.07746546, 0.07154146,\n",
       "       0.83399557, 0.11238181, 0.39391956, 0.62142389, 0.07288374,\n",
       "       0.13367429, 0.11147338, 0.46999653, 0.13384606, 0.80708532,\n",
       "       0.73759515, 0.31771024, 0.15347934, 0.12305907, 0.13755621,\n",
       "       0.91394478, 0.12882892, 0.10588702, 0.10599006, 0.56157623,\n",
       "       0.13168657, 0.3062395 , 0.94636264, 0.13836195, 0.14086043,\n",
       "       0.07973303, 0.01261693, 0.13714156, 0.2376341 , 0.93586167,\n",
       "       0.0646876 , 0.03698434, 0.7539455 , 0.93935412, 0.70028566,\n",
       "       0.6739861 , 0.86831389, 0.32663086, 0.70506932, 0.1540645 ,\n",
       "       0.04972328, 0.22958017, 0.87882873, 0.15074066, 0.26608541,\n",
       "       0.76053413, 0.84506055, 0.45435563, 0.10654627, 0.14048764,\n",
       "       0.11568362, 0.8454997 , 0.42823089, 0.07130203, 0.84352589,\n",
       "       0.78621854, 0.13264491, 0.13534109, 0.10651722, 0.90090928,\n",
       "       0.82285536, 0.09882251, 0.66852137, 0.24669065, 0.1184492 ,\n",
       "       0.55084775, 0.25212603, 0.93871785, 0.52743435, 0.58672781,\n",
       "       0.12834882])"
      ]
     },
     "execution_count": 237,
     "metadata": {},
     "output_type": "execute_result"
    }
   ],
   "source": [
    "train_preds=train_predict[:,1]\n",
    "train_preds"
   ]
  },
  {
   "cell_type": "code",
   "execution_count": 238,
   "metadata": {},
   "outputs": [],
   "source": [
    "for i in range(0,len(train_preds)):\n",
    "    if(train_preds[i]>0.6):\n",
    "        train_preds[i]=1\n",
    "    else:\n",
    "        train_preds[i]=0"
   ]
  },
  {
   "cell_type": "code",
   "execution_count": 239,
   "metadata": {},
   "outputs": [],
   "source": [
    "#Now in the above command ,we have segregated the train_preds values .\n",
    "#If any value >0.6 it is classified as 1 else 0."
   ]
  },
  {
   "cell_type": "code",
   "execution_count": 240,
   "metadata": {},
   "outputs": [
    {
     "name": "stdout",
     "output_type": "stream",
     "text": [
      "Training f1 score 0.7245409015025043\n"
     ]
    }
   ],
   "source": [
    "f1=f1_score(train_preds,train_y)\n",
    "print('Training f1 score',f1)"
   ]
  },
  {
   "cell_type": "code",
   "execution_count": 241,
   "metadata": {},
   "outputs": [
    {
     "data": {
      "text/html": [
       "<div>\n",
       "<style scoped>\n",
       "    .dataframe tbody tr th:only-of-type {\n",
       "        vertical-align: middle;\n",
       "    }\n",
       "\n",
       "    .dataframe tbody tr th {\n",
       "        vertical-align: top;\n",
       "    }\n",
       "\n",
       "    .dataframe thead th {\n",
       "        text-align: right;\n",
       "    }\n",
       "</style>\n",
       "<table border=\"1\" class=\"dataframe\">\n",
       "  <thead>\n",
       "    <tr style=\"text-align: right;\">\n",
       "      <th></th>\n",
       "      <th>PassengerId</th>\n",
       "      <th>Pclass</th>\n",
       "      <th>Name</th>\n",
       "      <th>Sex</th>\n",
       "      <th>Age</th>\n",
       "      <th>SibSp</th>\n",
       "      <th>Parch</th>\n",
       "      <th>Ticket</th>\n",
       "      <th>Fare</th>\n",
       "      <th>Cabin</th>\n",
       "      <th>Embarked</th>\n",
       "    </tr>\n",
       "  </thead>\n",
       "  <tbody>\n",
       "    <tr>\n",
       "      <th>0</th>\n",
       "      <td>892</td>\n",
       "      <td>3</td>\n",
       "      <td>Kelly, Mr. James</td>\n",
       "      <td>male</td>\n",
       "      <td>34.5</td>\n",
       "      <td>0</td>\n",
       "      <td>0</td>\n",
       "      <td>330911</td>\n",
       "      <td>7.8292</td>\n",
       "      <td>NaN</td>\n",
       "      <td>Q</td>\n",
       "    </tr>\n",
       "    <tr>\n",
       "      <th>1</th>\n",
       "      <td>893</td>\n",
       "      <td>3</td>\n",
       "      <td>Wilkes, Mrs. James (Ellen Needs)</td>\n",
       "      <td>female</td>\n",
       "      <td>47.0</td>\n",
       "      <td>1</td>\n",
       "      <td>0</td>\n",
       "      <td>363272</td>\n",
       "      <td>7.0000</td>\n",
       "      <td>NaN</td>\n",
       "      <td>S</td>\n",
       "    </tr>\n",
       "    <tr>\n",
       "      <th>2</th>\n",
       "      <td>894</td>\n",
       "      <td>2</td>\n",
       "      <td>Myles, Mr. Thomas Francis</td>\n",
       "      <td>male</td>\n",
       "      <td>62.0</td>\n",
       "      <td>0</td>\n",
       "      <td>0</td>\n",
       "      <td>240276</td>\n",
       "      <td>9.6875</td>\n",
       "      <td>NaN</td>\n",
       "      <td>Q</td>\n",
       "    </tr>\n",
       "    <tr>\n",
       "      <th>3</th>\n",
       "      <td>895</td>\n",
       "      <td>3</td>\n",
       "      <td>Wirz, Mr. Albert</td>\n",
       "      <td>male</td>\n",
       "      <td>27.0</td>\n",
       "      <td>0</td>\n",
       "      <td>0</td>\n",
       "      <td>315154</td>\n",
       "      <td>8.6625</td>\n",
       "      <td>NaN</td>\n",
       "      <td>S</td>\n",
       "    </tr>\n",
       "    <tr>\n",
       "      <th>4</th>\n",
       "      <td>896</td>\n",
       "      <td>3</td>\n",
       "      <td>Hirvonen, Mrs. Alexander (Helga E Lindqvist)</td>\n",
       "      <td>female</td>\n",
       "      <td>22.0</td>\n",
       "      <td>1</td>\n",
       "      <td>1</td>\n",
       "      <td>3101298</td>\n",
       "      <td>12.2875</td>\n",
       "      <td>NaN</td>\n",
       "      <td>S</td>\n",
       "    </tr>\n",
       "  </tbody>\n",
       "</table>\n",
       "</div>"
      ],
      "text/plain": [
       "   PassengerId  Pclass                                          Name     Sex  \\\n",
       "0          892       3                              Kelly, Mr. James    male   \n",
       "1          893       3              Wilkes, Mrs. James (Ellen Needs)  female   \n",
       "2          894       2                     Myles, Mr. Thomas Francis    male   \n",
       "3          895       3                              Wirz, Mr. Albert    male   \n",
       "4          896       3  Hirvonen, Mrs. Alexander (Helga E Lindqvist)  female   \n",
       "\n",
       "    Age  SibSp  Parch   Ticket     Fare Cabin Embarked  \n",
       "0  34.5      0      0   330911   7.8292   NaN        Q  \n",
       "1  47.0      1      0   363272   7.0000   NaN        S  \n",
       "2  62.0      0      0   240276   9.6875   NaN        Q  \n",
       "3  27.0      0      0   315154   8.6625   NaN        S  \n",
       "4  22.0      1      1  3101298  12.2875   NaN        S  "
      ]
     },
     "execution_count": 241,
     "metadata": {},
     "output_type": "execute_result"
    }
   ],
   "source": [
    "#Now as we have calculated the f1_score on our training dataset,its time we get down with our test datset.\n",
    "df_test.head(5)\n",
    "#We will follow the same sequence of steps that we did with training data to ensure that the test dataset has the same number of columns."
   ]
  },
  {
   "cell_type": "code",
   "execution_count": 242,
   "metadata": {},
   "outputs": [
    {
     "data": {
      "text/plain": [
       "(418, 11)"
      ]
     },
     "execution_count": 242,
     "metadata": {},
     "output_type": "execute_result"
    }
   ],
   "source": [
    "#Checking the rows and columns of the test dataframe.\n",
    "df_test.shape"
   ]
  },
  {
   "cell_type": "code",
   "execution_count": 243,
   "metadata": {},
   "outputs": [
    {
     "data": {
      "text/plain": [
       "PassengerId      0\n",
       "Pclass           0\n",
       "Name             0\n",
       "Sex              0\n",
       "Age             86\n",
       "SibSp            0\n",
       "Parch            0\n",
       "Ticket           0\n",
       "Fare             1\n",
       "Cabin          327\n",
       "Embarked         0\n",
       "dtype: int64"
      ]
     },
     "execution_count": 243,
     "metadata": {},
     "output_type": "execute_result"
    }
   ],
   "source": [
    "#Now we can see that our training dataset had 891 rows and 12 columns but our test dataset has only 11 columns.\n",
    "df_test.isnull().sum()"
   ]
  },
  {
   "cell_type": "code",
   "execution_count": 244,
   "metadata": {},
   "outputs": [
    {
     "data": {
      "text/plain": [
       "PassengerId      int64\n",
       "Pclass           int64\n",
       "Name            object\n",
       "Sex             object\n",
       "Age            float64\n",
       "SibSp            int64\n",
       "Parch            int64\n",
       "Ticket          object\n",
       "Fare           float64\n",
       "Cabin           object\n",
       "Embarked        object\n",
       "dtype: object"
      ]
     },
     "execution_count": 244,
     "metadata": {},
     "output_type": "execute_result"
    }
   ],
   "source": [
    "df_test.dtypes"
   ]
  },
  {
   "cell_type": "code",
   "execution_count": 245,
   "metadata": {},
   "outputs": [],
   "source": [
    "df_test['Age'].fillna(df_test['Age'].mean(),inplace=True)"
   ]
  },
  {
   "cell_type": "code",
   "execution_count": 246,
   "metadata": {},
   "outputs": [],
   "source": [
    "df_test['Survived']=''"
   ]
  },
  {
   "cell_type": "code",
   "execution_count": 247,
   "metadata": {},
   "outputs": [],
   "source": [
    "df_test.drop(['Survived'],axis = 1, inplace = True)"
   ]
  },
  {
   "cell_type": "code",
   "execution_count": 248,
   "metadata": {},
   "outputs": [
    {
     "data": {
      "text/plain": [
       "PassengerId      int64\n",
       "Pclass           int64\n",
       "Name            object\n",
       "Sex             object\n",
       "Age            float64\n",
       "SibSp            int64\n",
       "Parch            int64\n",
       "Ticket          object\n",
       "Fare           float64\n",
       "Cabin           object\n",
       "Embarked        object\n",
       "dtype: object"
      ]
     },
     "execution_count": 248,
     "metadata": {},
     "output_type": "execute_result"
    }
   ],
   "source": [
    "df_test.dtypes"
   ]
  },
  {
   "cell_type": "code",
   "execution_count": 249,
   "metadata": {},
   "outputs": [
    {
     "data": {
      "text/html": [
       "<div>\n",
       "<style scoped>\n",
       "    .dataframe tbody tr th:only-of-type {\n",
       "        vertical-align: middle;\n",
       "    }\n",
       "\n",
       "    .dataframe tbody tr th {\n",
       "        vertical-align: top;\n",
       "    }\n",
       "\n",
       "    .dataframe thead th {\n",
       "        text-align: right;\n",
       "    }\n",
       "</style>\n",
       "<table border=\"1\" class=\"dataframe\">\n",
       "  <thead>\n",
       "    <tr style=\"text-align: right;\">\n",
       "      <th></th>\n",
       "      <th>PassengerId</th>\n",
       "      <th>Pclass</th>\n",
       "      <th>Name</th>\n",
       "      <th>Sex</th>\n",
       "      <th>Age</th>\n",
       "      <th>SibSp</th>\n",
       "      <th>Parch</th>\n",
       "      <th>Ticket</th>\n",
       "      <th>Fare</th>\n",
       "      <th>Cabin</th>\n",
       "      <th>Embarked</th>\n",
       "    </tr>\n",
       "  </thead>\n",
       "  <tbody>\n",
       "    <tr>\n",
       "      <th>0</th>\n",
       "      <td>892</td>\n",
       "      <td>3</td>\n",
       "      <td>Kelly, Mr. James</td>\n",
       "      <td>male</td>\n",
       "      <td>34.5</td>\n",
       "      <td>0</td>\n",
       "      <td>0</td>\n",
       "      <td>330911</td>\n",
       "      <td>7.8292</td>\n",
       "      <td>NaN</td>\n",
       "      <td>Q</td>\n",
       "    </tr>\n",
       "    <tr>\n",
       "      <th>1</th>\n",
       "      <td>893</td>\n",
       "      <td>3</td>\n",
       "      <td>Wilkes, Mrs. James (Ellen Needs)</td>\n",
       "      <td>female</td>\n",
       "      <td>47.0</td>\n",
       "      <td>1</td>\n",
       "      <td>0</td>\n",
       "      <td>363272</td>\n",
       "      <td>7.0000</td>\n",
       "      <td>NaN</td>\n",
       "      <td>S</td>\n",
       "    </tr>\n",
       "    <tr>\n",
       "      <th>2</th>\n",
       "      <td>894</td>\n",
       "      <td>2</td>\n",
       "      <td>Myles, Mr. Thomas Francis</td>\n",
       "      <td>male</td>\n",
       "      <td>62.0</td>\n",
       "      <td>0</td>\n",
       "      <td>0</td>\n",
       "      <td>240276</td>\n",
       "      <td>9.6875</td>\n",
       "      <td>NaN</td>\n",
       "      <td>Q</td>\n",
       "    </tr>\n",
       "    <tr>\n",
       "      <th>3</th>\n",
       "      <td>895</td>\n",
       "      <td>3</td>\n",
       "      <td>Wirz, Mr. Albert</td>\n",
       "      <td>male</td>\n",
       "      <td>27.0</td>\n",
       "      <td>0</td>\n",
       "      <td>0</td>\n",
       "      <td>315154</td>\n",
       "      <td>8.6625</td>\n",
       "      <td>NaN</td>\n",
       "      <td>S</td>\n",
       "    </tr>\n",
       "    <tr>\n",
       "      <th>4</th>\n",
       "      <td>896</td>\n",
       "      <td>3</td>\n",
       "      <td>Hirvonen, Mrs. Alexander (Helga E Lindqvist)</td>\n",
       "      <td>female</td>\n",
       "      <td>22.0</td>\n",
       "      <td>1</td>\n",
       "      <td>1</td>\n",
       "      <td>3101298</td>\n",
       "      <td>12.2875</td>\n",
       "      <td>NaN</td>\n",
       "      <td>S</td>\n",
       "    </tr>\n",
       "  </tbody>\n",
       "</table>\n",
       "</div>"
      ],
      "text/plain": [
       "   PassengerId  Pclass                                          Name     Sex  \\\n",
       "0          892       3                              Kelly, Mr. James    male   \n",
       "1          893       3              Wilkes, Mrs. James (Ellen Needs)  female   \n",
       "2          894       2                     Myles, Mr. Thomas Francis    male   \n",
       "3          895       3                              Wirz, Mr. Albert    male   \n",
       "4          896       3  Hirvonen, Mrs. Alexander (Helga E Lindqvist)  female   \n",
       "\n",
       "    Age  SibSp  Parch   Ticket     Fare Cabin Embarked  \n",
       "0  34.5      0      0   330911   7.8292   NaN        Q  \n",
       "1  47.0      1      0   363272   7.0000   NaN        S  \n",
       "2  62.0      0      0   240276   9.6875   NaN        Q  \n",
       "3  27.0      0      0   315154   8.6625   NaN        S  \n",
       "4  22.0      1      1  3101298  12.2875   NaN        S  "
      ]
     },
     "execution_count": 249,
     "metadata": {},
     "output_type": "execute_result"
    }
   ],
   "source": [
    "df_test.head()"
   ]
  },
  {
   "cell_type": "code",
   "execution_count": 250,
   "metadata": {},
   "outputs": [
    {
     "data": {
      "text/plain": [
       "(418, 11)"
      ]
     },
     "execution_count": 250,
     "metadata": {},
     "output_type": "execute_result"
    }
   ],
   "source": [
    "df_test.shape"
   ]
  },
  {
   "cell_type": "code",
   "execution_count": 165,
   "metadata": {},
   "outputs": [],
   "source": [
    "#Now we can see that we have added the new column and now we have same number of rows and columns in the train and test data.\n",
    "#So we should quickly process our test data set and get started with model building."
   ]
  },
  {
   "cell_type": "code",
   "execution_count": 251,
   "metadata": {},
   "outputs": [
    {
     "data": {
      "text/plain": [
       "0"
      ]
     },
     "execution_count": 251,
     "metadata": {},
     "output_type": "execute_result"
    }
   ],
   "source": [
    "df_test['Age'].isnull().sum()"
   ]
  },
  {
   "cell_type": "code",
   "execution_count": 252,
   "metadata": {},
   "outputs": [],
   "source": [
    "#Now we will check for categorical varibles i.e cabin and embarked"
   ]
  },
  {
   "cell_type": "code",
   "execution_count": 253,
   "metadata": {},
   "outputs": [
    {
     "data": {
      "text/plain": [
       "76"
      ]
     },
     "execution_count": 253,
     "metadata": {},
     "output_type": "execute_result"
    }
   ],
   "source": [
    "df_test['Cabin'].nunique()"
   ]
  },
  {
   "cell_type": "code",
   "execution_count": 254,
   "metadata": {},
   "outputs": [],
   "source": [
    "#Our test dataframe has 491 rows and the cabin column hs 370 null values and 76 unique values\n",
    "#So it will be in our best intrest that we drop this column as it creates a lot of uncertainity in the dataset."
   ]
  },
  {
   "cell_type": "code",
   "execution_count": 255,
   "metadata": {},
   "outputs": [],
   "source": [
    "df_test.drop(['Cabin'],axis=1,inplace=True)"
   ]
  },
  {
   "cell_type": "code",
   "execution_count": 256,
   "metadata": {},
   "outputs": [
    {
     "data": {
      "text/plain": [
       "3"
      ]
     },
     "execution_count": 256,
     "metadata": {},
     "output_type": "execute_result"
    }
   ],
   "source": [
    "df_test['Embarked'].nunique()"
   ]
  },
  {
   "cell_type": "code",
   "execution_count": 257,
   "metadata": {},
   "outputs": [],
   "source": [
    "Embarked_DummiesTest=pd.get_dummies(df_test['Embarked'])"
   ]
  },
  {
   "cell_type": "code",
   "execution_count": 258,
   "metadata": {},
   "outputs": [],
   "source": [
    "df_test=pd.concat([df_test,Embarked_DummiesTest],axis=1)"
   ]
  },
  {
   "cell_type": "code",
   "execution_count": 259,
   "metadata": {},
   "outputs": [
    {
     "data": {
      "text/html": [
       "<div>\n",
       "<style scoped>\n",
       "    .dataframe tbody tr th:only-of-type {\n",
       "        vertical-align: middle;\n",
       "    }\n",
       "\n",
       "    .dataframe tbody tr th {\n",
       "        vertical-align: top;\n",
       "    }\n",
       "\n",
       "    .dataframe thead th {\n",
       "        text-align: right;\n",
       "    }\n",
       "</style>\n",
       "<table border=\"1\" class=\"dataframe\">\n",
       "  <thead>\n",
       "    <tr style=\"text-align: right;\">\n",
       "      <th></th>\n",
       "      <th>PassengerId</th>\n",
       "      <th>Pclass</th>\n",
       "      <th>Name</th>\n",
       "      <th>Sex</th>\n",
       "      <th>Age</th>\n",
       "      <th>SibSp</th>\n",
       "      <th>Parch</th>\n",
       "      <th>Ticket</th>\n",
       "      <th>Fare</th>\n",
       "      <th>Embarked</th>\n",
       "      <th>C</th>\n",
       "      <th>Q</th>\n",
       "      <th>S</th>\n",
       "    </tr>\n",
       "  </thead>\n",
       "  <tbody>\n",
       "    <tr>\n",
       "      <th>0</th>\n",
       "      <td>892</td>\n",
       "      <td>3</td>\n",
       "      <td>Kelly, Mr. James</td>\n",
       "      <td>male</td>\n",
       "      <td>34.5</td>\n",
       "      <td>0</td>\n",
       "      <td>0</td>\n",
       "      <td>330911</td>\n",
       "      <td>7.8292</td>\n",
       "      <td>Q</td>\n",
       "      <td>0</td>\n",
       "      <td>1</td>\n",
       "      <td>0</td>\n",
       "    </tr>\n",
       "    <tr>\n",
       "      <th>1</th>\n",
       "      <td>893</td>\n",
       "      <td>3</td>\n",
       "      <td>Wilkes, Mrs. James (Ellen Needs)</td>\n",
       "      <td>female</td>\n",
       "      <td>47.0</td>\n",
       "      <td>1</td>\n",
       "      <td>0</td>\n",
       "      <td>363272</td>\n",
       "      <td>7.0000</td>\n",
       "      <td>S</td>\n",
       "      <td>0</td>\n",
       "      <td>0</td>\n",
       "      <td>1</td>\n",
       "    </tr>\n",
       "  </tbody>\n",
       "</table>\n",
       "</div>"
      ],
      "text/plain": [
       "   PassengerId  Pclass                              Name     Sex   Age  SibSp  \\\n",
       "0          892       3                  Kelly, Mr. James    male  34.5      0   \n",
       "1          893       3  Wilkes, Mrs. James (Ellen Needs)  female  47.0      1   \n",
       "\n",
       "   Parch  Ticket    Fare Embarked  C  Q  S  \n",
       "0      0  330911  7.8292        Q  0  1  0  \n",
       "1      0  363272  7.0000        S  0  0  1  "
      ]
     },
     "execution_count": 259,
     "metadata": {},
     "output_type": "execute_result"
    }
   ],
   "source": [
    "df_test.head(2)"
   ]
  },
  {
   "cell_type": "code",
   "execution_count": 260,
   "metadata": {},
   "outputs": [],
   "source": [
    "df_test.drop(['Embarked'],axis=1,inplace=True)"
   ]
  },
  {
   "cell_type": "code",
   "execution_count": 261,
   "metadata": {},
   "outputs": [],
   "source": [
    "#Dropping the Name column as 491 unique names.\n",
    "df_test.drop(['Name'],axis=1,inplace=True)"
   ]
  },
  {
   "cell_type": "code",
   "execution_count": 262,
   "metadata": {},
   "outputs": [
    {
     "data": {
      "text/plain": [
       "363"
      ]
     },
     "execution_count": 262,
     "metadata": {},
     "output_type": "execute_result"
    }
   ],
   "source": [
    "\n",
    "#Now upon examining the dataset , we find that all null values have been dealt with but the data still has categorical variables \n",
    "#So we will quickly convert those into their dummy values\n",
    "df_test['Ticket'].nunique()"
   ]
  },
  {
   "cell_type": "code",
   "execution_count": 263,
   "metadata": {},
   "outputs": [],
   "source": [
    "#Now as the Ticket column has 363 unique values out of 491 rows .\n",
    "#So we will delete the column altogether.\n",
    "df_test.drop(['Ticket'],axis=1,inplace=True)"
   ]
  },
  {
   "cell_type": "code",
   "execution_count": 264,
   "metadata": {},
   "outputs": [],
   "source": [
    "df_test=pd.get_dummies(df_test,columns=['Sex'])"
   ]
  },
  {
   "cell_type": "code",
   "execution_count": 265,
   "metadata": {},
   "outputs": [
    {
     "data": {
      "text/html": [
       "<div>\n",
       "<style scoped>\n",
       "    .dataframe tbody tr th:only-of-type {\n",
       "        vertical-align: middle;\n",
       "    }\n",
       "\n",
       "    .dataframe tbody tr th {\n",
       "        vertical-align: top;\n",
       "    }\n",
       "\n",
       "    .dataframe thead th {\n",
       "        text-align: right;\n",
       "    }\n",
       "</style>\n",
       "<table border=\"1\" class=\"dataframe\">\n",
       "  <thead>\n",
       "    <tr style=\"text-align: right;\">\n",
       "      <th></th>\n",
       "      <th>PassengerId</th>\n",
       "      <th>Pclass</th>\n",
       "      <th>Age</th>\n",
       "      <th>SibSp</th>\n",
       "      <th>Parch</th>\n",
       "      <th>Fare</th>\n",
       "      <th>C</th>\n",
       "      <th>Q</th>\n",
       "      <th>S</th>\n",
       "      <th>Sex_female</th>\n",
       "      <th>Sex_male</th>\n",
       "    </tr>\n",
       "  </thead>\n",
       "  <tbody>\n",
       "    <tr>\n",
       "      <th>0</th>\n",
       "      <td>892</td>\n",
       "      <td>3</td>\n",
       "      <td>34.5</td>\n",
       "      <td>0</td>\n",
       "      <td>0</td>\n",
       "      <td>7.8292</td>\n",
       "      <td>0</td>\n",
       "      <td>1</td>\n",
       "      <td>0</td>\n",
       "      <td>0</td>\n",
       "      <td>1</td>\n",
       "    </tr>\n",
       "    <tr>\n",
       "      <th>1</th>\n",
       "      <td>893</td>\n",
       "      <td>3</td>\n",
       "      <td>47.0</td>\n",
       "      <td>1</td>\n",
       "      <td>0</td>\n",
       "      <td>7.0000</td>\n",
       "      <td>0</td>\n",
       "      <td>0</td>\n",
       "      <td>1</td>\n",
       "      <td>1</td>\n",
       "      <td>0</td>\n",
       "    </tr>\n",
       "    <tr>\n",
       "      <th>2</th>\n",
       "      <td>894</td>\n",
       "      <td>2</td>\n",
       "      <td>62.0</td>\n",
       "      <td>0</td>\n",
       "      <td>0</td>\n",
       "      <td>9.6875</td>\n",
       "      <td>0</td>\n",
       "      <td>1</td>\n",
       "      <td>0</td>\n",
       "      <td>0</td>\n",
       "      <td>1</td>\n",
       "    </tr>\n",
       "    <tr>\n",
       "      <th>3</th>\n",
       "      <td>895</td>\n",
       "      <td>3</td>\n",
       "      <td>27.0</td>\n",
       "      <td>0</td>\n",
       "      <td>0</td>\n",
       "      <td>8.6625</td>\n",
       "      <td>0</td>\n",
       "      <td>0</td>\n",
       "      <td>1</td>\n",
       "      <td>0</td>\n",
       "      <td>1</td>\n",
       "    </tr>\n",
       "    <tr>\n",
       "      <th>4</th>\n",
       "      <td>896</td>\n",
       "      <td>3</td>\n",
       "      <td>22.0</td>\n",
       "      <td>1</td>\n",
       "      <td>1</td>\n",
       "      <td>12.2875</td>\n",
       "      <td>0</td>\n",
       "      <td>0</td>\n",
       "      <td>1</td>\n",
       "      <td>1</td>\n",
       "      <td>0</td>\n",
       "    </tr>\n",
       "  </tbody>\n",
       "</table>\n",
       "</div>"
      ],
      "text/plain": [
       "   PassengerId  Pclass   Age  SibSp  Parch     Fare  C  Q  S  Sex_female  \\\n",
       "0          892       3  34.5      0      0   7.8292  0  1  0           0   \n",
       "1          893       3  47.0      1      0   7.0000  0  0  1           1   \n",
       "2          894       2  62.0      0      0   9.6875  0  1  0           0   \n",
       "3          895       3  27.0      0      0   8.6625  0  0  1           0   \n",
       "4          896       3  22.0      1      1  12.2875  0  0  1           1   \n",
       "\n",
       "   Sex_male  \n",
       "0         1  \n",
       "1         0  \n",
       "2         1  \n",
       "3         1  \n",
       "4         0  "
      ]
     },
     "execution_count": 265,
     "metadata": {},
     "output_type": "execute_result"
    }
   ],
   "source": [
    "df_test.head()"
   ]
  },
  {
   "cell_type": "code",
   "execution_count": 266,
   "metadata": {},
   "outputs": [
    {
     "data": {
      "text/plain": [
       "1"
      ]
     },
     "execution_count": 266,
     "metadata": {},
     "output_type": "execute_result"
    }
   ],
   "source": [
    "df_test['Fare'].isnull().sum()"
   ]
  },
  {
   "cell_type": "code",
   "execution_count": 267,
   "metadata": {},
   "outputs": [],
   "source": [
    "df_test['Fare'].fillna(df_test['Fare'].mean(),inplace=True)"
   ]
  },
  {
   "cell_type": "code",
   "execution_count": 268,
   "metadata": {},
   "outputs": [],
   "source": [
    "num_vars1=['Age','Fare','PassengerId']\n",
    "df_test[num_vars1]=scaler.fit_transform(df_test[num_vars1])"
   ]
  },
  {
   "cell_type": "code",
   "execution_count": 269,
   "metadata": {},
   "outputs": [
    {
     "data": {
      "text/html": [
       "<div>\n",
       "<style scoped>\n",
       "    .dataframe tbody tr th:only-of-type {\n",
       "        vertical-align: middle;\n",
       "    }\n",
       "\n",
       "    .dataframe tbody tr th {\n",
       "        vertical-align: top;\n",
       "    }\n",
       "\n",
       "    .dataframe thead th {\n",
       "        text-align: right;\n",
       "    }\n",
       "</style>\n",
       "<table border=\"1\" class=\"dataframe\">\n",
       "  <thead>\n",
       "    <tr style=\"text-align: right;\">\n",
       "      <th></th>\n",
       "      <th>PassengerId</th>\n",
       "      <th>Pclass</th>\n",
       "      <th>Age</th>\n",
       "      <th>SibSp</th>\n",
       "      <th>Parch</th>\n",
       "      <th>Fare</th>\n",
       "      <th>C</th>\n",
       "      <th>Q</th>\n",
       "      <th>S</th>\n",
       "      <th>Sex_female</th>\n",
       "      <th>Sex_male</th>\n",
       "    </tr>\n",
       "  </thead>\n",
       "  <tbody>\n",
       "    <tr>\n",
       "      <th>0</th>\n",
       "      <td>0.000000</td>\n",
       "      <td>3</td>\n",
       "      <td>0.452723</td>\n",
       "      <td>0</td>\n",
       "      <td>0</td>\n",
       "      <td>0.015282</td>\n",
       "      <td>0</td>\n",
       "      <td>1</td>\n",
       "      <td>0</td>\n",
       "      <td>0</td>\n",
       "      <td>1</td>\n",
       "    </tr>\n",
       "    <tr>\n",
       "      <th>1</th>\n",
       "      <td>0.002398</td>\n",
       "      <td>3</td>\n",
       "      <td>0.617566</td>\n",
       "      <td>1</td>\n",
       "      <td>0</td>\n",
       "      <td>0.013663</td>\n",
       "      <td>0</td>\n",
       "      <td>0</td>\n",
       "      <td>1</td>\n",
       "      <td>1</td>\n",
       "      <td>0</td>\n",
       "    </tr>\n",
       "    <tr>\n",
       "      <th>2</th>\n",
       "      <td>0.004796</td>\n",
       "      <td>2</td>\n",
       "      <td>0.815377</td>\n",
       "      <td>0</td>\n",
       "      <td>0</td>\n",
       "      <td>0.018909</td>\n",
       "      <td>0</td>\n",
       "      <td>1</td>\n",
       "      <td>0</td>\n",
       "      <td>0</td>\n",
       "      <td>1</td>\n",
       "    </tr>\n",
       "    <tr>\n",
       "      <th>3</th>\n",
       "      <td>0.007194</td>\n",
       "      <td>3</td>\n",
       "      <td>0.353818</td>\n",
       "      <td>0</td>\n",
       "      <td>0</td>\n",
       "      <td>0.016908</td>\n",
       "      <td>0</td>\n",
       "      <td>0</td>\n",
       "      <td>1</td>\n",
       "      <td>0</td>\n",
       "      <td>1</td>\n",
       "    </tr>\n",
       "    <tr>\n",
       "      <th>4</th>\n",
       "      <td>0.009592</td>\n",
       "      <td>3</td>\n",
       "      <td>0.287881</td>\n",
       "      <td>1</td>\n",
       "      <td>1</td>\n",
       "      <td>0.023984</td>\n",
       "      <td>0</td>\n",
       "      <td>0</td>\n",
       "      <td>1</td>\n",
       "      <td>1</td>\n",
       "      <td>0</td>\n",
       "    </tr>\n",
       "  </tbody>\n",
       "</table>\n",
       "</div>"
      ],
      "text/plain": [
       "   PassengerId  Pclass       Age  SibSp  Parch      Fare  C  Q  S  Sex_female  \\\n",
       "0     0.000000       3  0.452723      0      0  0.015282  0  1  0           0   \n",
       "1     0.002398       3  0.617566      1      0  0.013663  0  0  1           1   \n",
       "2     0.004796       2  0.815377      0      0  0.018909  0  1  0           0   \n",
       "3     0.007194       3  0.353818      0      0  0.016908  0  0  1           0   \n",
       "4     0.009592       3  0.287881      1      1  0.023984  0  0  1           1   \n",
       "\n",
       "   Sex_male  \n",
       "0         1  \n",
       "1         0  \n",
       "2         1  \n",
       "3         1  \n",
       "4         0  "
      ]
     },
     "execution_count": 269,
     "metadata": {},
     "output_type": "execute_result"
    }
   ],
   "source": [
    "df_test.head()"
   ]
  },
  {
   "cell_type": "code",
   "execution_count": 271,
   "metadata": {},
   "outputs": [],
   "source": [
    "test_predict=logreg.predict(df_test)\n"
   ]
  },
  {
   "cell_type": "code",
   "execution_count": 101,
   "metadata": {},
   "outputs": [
    {
     "name": "stdout",
     "output_type": "stream",
     "text": [
      "\n"
     ]
    }
   ],
   "source": [
    "\"\"\"\n",
    "train_predict=logreg.predict(train_x)\n",
    "k=f1_score(train_predict,train_y)\n",
    "print(\"Training f1_score\",k)\n",
    "\"\"\"\""
   ]
  },
  {
   "cell_type": "code",
   "execution_count": 272,
   "metadata": {},
   "outputs": [
    {
     "data": {
      "text/plain": [
       "array([0, 0, 0, 0, 1, 0, 1, 0, 1, 0, 0, 0, 1, 0, 1, 1, 0, 0, 1, 1, 0, 0,\n",
       "       1, 1, 1, 0, 1, 0, 0, 0, 0, 0, 0, 0, 0, 0, 1, 1, 0, 0, 0, 0, 0, 1,\n",
       "       1, 0, 0, 0, 1, 1, 0, 0, 1, 1, 0, 0, 0, 0, 0, 1, 0, 0, 0, 1, 1, 1,\n",
       "       1, 0, 1, 1, 1, 0, 1, 1, 1, 1, 0, 1, 0, 1, 0, 0, 0, 0, 0, 0, 1, 1,\n",
       "       1, 0, 1, 0, 1, 0, 1, 0, 1, 0, 1, 0, 1, 0, 0, 0, 1, 0, 0, 0, 0, 0,\n",
       "       0, 1, 1, 1, 1, 0, 0, 1, 0, 1, 1, 0, 1, 0, 0, 1, 0, 1, 0, 0, 0, 0,\n",
       "       1, 0, 0, 0, 0, 0, 1, 0, 0, 1, 0, 0, 0, 0, 0, 0, 0, 0, 1, 0, 0, 1,\n",
       "       0, 0, 1, 1, 0, 1, 1, 0, 1, 0, 0, 1, 0, 0, 1, 1, 0, 0, 0, 0, 0, 1,\n",
       "       1, 0, 1, 1, 0, 0, 1, 0, 1, 0, 1, 0, 0, 0, 0, 0, 0, 0, 0, 0, 1, 1,\n",
       "       0, 1, 1, 0, 0, 1, 0, 1, 1, 0, 1, 0, 0, 0, 0, 1, 0, 0, 1, 0, 1, 0,\n",
       "       1, 0, 1, 0, 1, 1, 0, 1, 0, 0, 0, 1, 0, 0, 0, 0, 0, 0, 1, 1, 1, 1,\n",
       "       0, 0, 0, 0, 1, 0, 1, 1, 1, 0, 0, 0, 0, 0, 0, 0, 1, 0, 0, 0, 1, 1,\n",
       "       0, 0, 0, 0, 1, 0, 0, 0, 1, 1, 0, 1, 0, 0, 0, 0, 1, 0, 1, 1, 1, 0,\n",
       "       0, 0, 0, 0, 0, 1, 0, 0, 0, 0, 1, 0, 0, 0, 0, 0, 0, 0, 1, 1, 0, 0,\n",
       "       0, 0, 0, 0, 0, 1, 1, 1, 0, 0, 0, 0, 0, 0, 0, 0, 1, 0, 1, 0, 0, 0,\n",
       "       1, 0, 0, 1, 0, 0, 0, 0, 0, 0, 0, 0, 0, 1, 0, 1, 0, 1, 0, 1, 1, 0,\n",
       "       0, 0, 1, 0, 1, 0, 0, 1, 0, 1, 1, 0, 1, 0, 0, 1, 1, 0, 0, 1, 0, 0,\n",
       "       1, 1, 0, 0, 0, 0, 0, 0, 1, 1, 0, 1, 0, 0, 0, 0, 0, 1, 0, 0, 0, 1,\n",
       "       0, 1, 0, 0, 1, 0, 1, 0, 0, 0, 0, 0, 1, 1, 1, 1, 1, 0, 1, 0, 0, 0],\n",
       "      dtype=int64)"
      ]
     },
     "execution_count": 272,
     "metadata": {},
     "output_type": "execute_result"
    }
   ],
   "source": [
    "test_predict"
   ]
  },
  {
   "cell_type": "code",
   "execution_count": null,
   "metadata": {},
   "outputs": [],
   "source": []
  }
 ],
 "metadata": {
  "kernelspec": {
   "display_name": "Python 3",
   "language": "python",
   "name": "python3"
  },
  "language_info": {
   "codemirror_mode": {
    "name": "ipython",
    "version": 3
   },
   "file_extension": ".py",
   "mimetype": "text/x-python",
   "name": "python",
   "nbconvert_exporter": "python",
   "pygments_lexer": "ipython3",
   "version": "3.6.5"
  }
 },
 "nbformat": 4,
 "nbformat_minor": 2
}
